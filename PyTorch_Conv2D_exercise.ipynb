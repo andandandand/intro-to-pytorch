{
  "nbformat": 4,
  "nbformat_minor": 0,
  "metadata": {
    "colab": {
      "name": "PyTorch Conv2D.ipynb",
      "provenance": []
    },
    "kernelspec": {
      "name": "python3",
      "display_name": "Python 3"
    }
  },
  "cells": [
    {
      "cell_type": "markdown",
      "metadata": {
        "id": "Og4H_xMW0_l7"
      },
      "source": [
        "# Conv2D exercises\n",
        "\n",
        "https://pytorch.org/docs/stable/generated/torch.nn.Conv2d.html\n",
        "\n",
        "* Create 10 images with shape (1, 28, 28).\n",
        "* Build 6 convolutional filters of size (3, 3)\n",
        "  * with stride first set to 1, then set to 2 \n",
        "  * padding first set to 1, and then set to 0.\n",
        "* Apply the filters in the image and print the shape of the feature map.\n",
        "\n",
        "\n",
        "\n",
        "The arguments in `Conv2d` are `in_channels`, `out_channels`, `kernel_size`, `stride`, and `padding`.\n",
        "\n",
        "The number of in_channels is 1, while the number of `out_channels` is 6."
      ]
    },
    {
      "cell_type": "code",
      "metadata": {
        "colab": {
          "base_uri": "https://localhost:8080/",
          "height": 131
        },
        "id": "hkxE89z407Pq",
        "outputId": "34484084-cfe2-4efe-fe60-2cb2e1c9c160"
      },
      "source": [
        "# Create 30 random matrices (\"images\") of shape (1, 28, 28)\n",
        "images = ____.____(____, ____, ____, ____)\n",
        "\n",
        "# Build 6 conv. filters of 3x3\n",
        "conv_filters = ____.____.____(____=____, ____=____, ____=____, ____=____, ____=____)\n",
        "\n",
        "# Convolve the image with the filters \n",
        "output_feature = ____(____)\n",
        "# what is the dimension of the output tensor? \n",
        "print(output_feature.shape)"
      ],
      "execution_count": 5,
      "outputs": [
        {
          "output_type": "error",
          "ename": "SyntaxError",
          "evalue": "ignored",
          "traceback": [
            "\u001b[0;36m  File \u001b[0;32m\"<ipython-input-5-f392f146f3df>\"\u001b[0;36m, line \u001b[0;32m5\u001b[0m\n\u001b[0;31m    conv_filters = ____.____.____(____=____, ____=____, ____=____, ____=____, ____=____)\u001b[0m\n\u001b[0m                                            ^\u001b[0m\n\u001b[0;31mSyntaxError\u001b[0m\u001b[0;31m:\u001b[0m keyword argument repeated\n"
          ]
        }
      ]
    },
    {
      "cell_type": "code",
      "metadata": {
        "colab": {
          "base_uri": "https://localhost:8080/"
        },
        "id": "gxzLEGYI0uce",
        "outputId": "55e5930e-469a-4bc4-a4e8-217015883658"
      },
      "source": [
        "import torch\n",
        "# Create 30 random images of shape (1, 28, 28)\n",
        "images = torch.rand(10, 1, 28, 28)\n",
        "\n",
        "# Build 6 conv. filters\n",
        "conv_filters = torch.nn.Conv2d(in_channels=1, out_channels=6, kernel_size=3, \n",
        "                               stride=2, padding=1)\n",
        "\n",
        "# Convolve the image with the filters\n",
        "output_feature = conv_filters(images)\n",
        "# what is the dimension of the output tensor? \n",
        "print(output_feature.shape)"
      ],
      "execution_count": 6,
      "outputs": [
        {
          "output_type": "stream",
          "text": [
            "torch.Size([10, 6, 14, 14])\n"
          ],
          "name": "stdout"
        }
      ]
    }
  ]
}